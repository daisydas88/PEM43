{
 "cells": [
  {
   "cell_type": "code",
   "execution_count": null,
   "id": "b71016ae-e2e9-42b8-a9a5-2cb0d279cab5",
   "metadata": {},
   "outputs": [
    {
     "name": "stdout",
     "output_type": "stream",
     "text": [
      "Folder created at D:\\\\thesis24\\\\EEG_ANTENATAL_OPD\\\\mat_eeg_final\\\\bp_eeg\\\\aftr_amp\\\\experiment5\n"
     ]
    }
   ],
   "source": [
    "import os\n",
    "import scipy.io\n",
    "import numpy as np\n",
    "from sklearn.preprocessing import LabelEncoder\n",
    "from sklearn.model_selection import train_test_split\n",
    "from sklearn.ensemble import RandomForestClassifier\n",
    "from sklearn.metrics import accuracy_score\n",
    "from sklearn.preprocessing import StandardScaler\n",
    "from tensorflow.keras.preprocessing.sequence import pad_sequences  # Correct import\n",
    "\n",
    "# Create the new folder for the experiment\n",
    "experiment_folder = r'D:\\\\thesis24\\\\EEG_ANTENATAL_OPD\\\\mat_eeg_final\\\\bp_eeg\\\\aftr_amp\\\\experiment5'\n",
    "if not os.path.exists(experiment_folder):\n",
    "    os.makedirs(experiment_folder)\n",
    "print(f\"Folder created at {experiment_folder}\")\n",
    "\n",
    "class EEGDataset:\n",
    "    def __init__(self, data_folder):\n",
    "        self.data = []\n",
    "        self.labels = []\n",
    "        self.load_data(data_folder)\n",
    "\n",
    "    def load_data(self, folder):\n",
    "        for file in os.listdir(folder):\n",
    "            if file.endswith('.mat'):\n",
    "                filepath = os.path.join(folder, file)\n",
    "                mat = scipy.io.loadmat(filepath)\n",
    "                data = mat['data']  # Assuming 'data' is the variable name in .mat files\n",
    "                label = self.get_label_from_filename(file)\n",
    "                self.data.append(data)\n",
    "                self.labels.append(label)\n",
    "\n",
    "        # Convert lists to numpy arrays (allowing variable-length sequences)\n",
    "        self.labels = LabelEncoder().fit_transform(self.labels)\n",
    "\n",
    "    def get_label_from_filename(self, filename):\n",
    "        if '_RS_' in filename:\n",
    "            return 'RS'\n",
    "        elif '_M_' in filename:\n",
    "            return 'M'\n",
    "        elif '_AM_' in filename:\n",
    "            return 'AM'\n",
    "\n",
    "# Load the dataset\n",
    "data_folder = r'D:\\\\thesis24\\\\EEG_ANTENATAL_OPD\\\\mat_eeg_final\\\\bp_eeg\\\\aftr_amp'\n",
    "dataset = EEGDataset(data_folder)\n",
    "\n",
    "# Padding all sequences to have the same number of time points\n",
    "# Find the maximum sequence length\n",
    "max_length = max([data.shape[1] for data in dataset.data])\n",
    "\n",
    "# Pad the data so that all sequences are of the same length\n",
    "padded_data = [pad_sequences([trial], maxlen=max_length, dtype='float32', padding='post', truncating='post')[0] for trial in dataset.data]\n",
    "\n",
    "# Flatten the data for traditional machine learning models\n",
    "padded_data = np.array(padded_data)  # Convert list to numpy array after padding\n",
    "num_samples = len(padded_data)\n",
    "flattened_data = padded_data.reshape(num_samples, -1)  # Reshape 3D EEG data to 2D\n",
    "\n",
    "# Standardize the features\n",
    "scaler = StandardScaler()\n",
    "flattened_data = scaler.fit_transform(flattened_data)\n",
    "\n",
    "# Split the dataset into training and test sets\n",
    "X_train, X_test, y_train, y_test = train_test_split(flattened_data, dataset.labels, test_size=0.2, random_state=42)\n",
    "\n",
    "# Train a random forest classifier\n",
    "clf = RandomForestClassifier(n_estimators=100, random_state=42)\n",
    "clf.fit(X_train, y_train)\n",
    "\n",
    "# Predict on the test set\n",
    "y_pred = clf.predict(X_test)\n",
    "\n",
    "# Calculate accuracy\n",
    "accuracy = accuracy_score(y_test, y_pred)\n",
    "print(f\"Accuracy: {accuracy:.4f}\")\n"
   ]
  },
  {
   "cell_type": "code",
   "execution_count": null,
   "id": "d3cac960-daf9-48ac-9b21-6e53ca4b297b",
   "metadata": {},
   "outputs": [],
   "source": []
  }
 ],
 "metadata": {
  "kernelspec": {
   "display_name": "Python 3 (ipykernel)",
   "language": "python",
   "name": "python3"
  },
  "language_info": {
   "codemirror_mode": {
    "name": "ipython",
    "version": 3
   },
   "file_extension": ".py",
   "mimetype": "text/x-python",
   "name": "python",
   "nbconvert_exporter": "python",
   "pygments_lexer": "ipython3",
   "version": "3.10.14"
  }
 },
 "nbformat": 4,
 "nbformat_minor": 5
}
